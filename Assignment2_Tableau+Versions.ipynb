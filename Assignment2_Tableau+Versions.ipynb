{
 "cells": [
  {
   "cell_type": "markdown",
   "metadata": {},
   "source": [
    "Version 1: https://public.tableau.com/views/Assignment2_v1_0/Dashboard1?:embed=y&:display_count=yes&publish=yes\n",
    "\n",
    "Advantage: Use of different graph. \n",
    "Disadvantage: No analysis on organization and entity. Does not ascertain the claim"
   ]
  },
  {
   "cell_type": "markdown",
   "metadata": {},
   "source": [
    "Version 2: https://public.tableau.com/views/Assignment2_ver3/Dashboard1?:embed=y&:display_count=yes&publish=yes\n",
    "              \n",
    "Advantage: More clarity about the motive compared to the first version. The area graph is able to serve as a time line as well as analyze the organization column. Hence, more space effecient compared to first version. \n",
    "\n",
    "Disadvantage: Repeated bar graph and timelines.  "
   ]
  },
  {
   "cell_type": "markdown",
   "metadata": {},
   "source": [
    "Final Version: https://public.tableau.com/views/Assignment2_Final_Version/Dashboard1?:embed=y&:display_count=yes&publish=yes\n",
    "\n",
    "Description: The area chart is shown as a timeline. We observe that, the security breach is becoming severe over the year and personal data such as SSN and health records are no longer safe on the internet. We can also see that the security measures on internet are no longer sufficient and needs to be changed. Data leak was not even significant till 2016. Now, data leak is very prominent. \n",
    "\n",
    "Advantage: Can easily understand the motive behind the visualization. \n",
    "Disadvantage: Legends has to be scrolled, visualization looks congested. \n",
    "\n"
   ]
  }
 ],
 "metadata": {
  "kernelspec": {
   "display_name": "Python 3",
   "language": "python",
   "name": "python3"
  },
  "language_info": {
   "codemirror_mode": {
    "name": "ipython",
    "version": 3
   },
   "file_extension": ".py",
   "mimetype": "text/x-python",
   "name": "python",
   "nbconvert_exporter": "python",
   "pygments_lexer": "ipython3",
   "version": "3.6.2"
  }
 },
 "nbformat": 4,
 "nbformat_minor": 2
}
