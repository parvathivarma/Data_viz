{
 "cells": [
  {
   "cell_type": "markdown",
   "metadata": {},
   "source": [
    "\n",
    "Task: Financial market punished security breach\n",
    "Actor: Stakeholders who plan to buy stocks in a company\n",
    "\n",
    "\n",
    "\n",
    "\n",
    "Final Version:\n",
    "https://public.tableau.com/views/Lab3-FinalVersion/Dashboard1?:embed=y&:display_count=yes&publish=yes\n",
    "\n",
    "\n",
    "\n",
    "Description:\n",
    "\n",
    "The combo chart represents the average stock value and average security breaches for all companies for every year starting from 2004 to 2017. We can observe that whenever there is high security breach incident, the avrage stock market value is being affected. Adding to that, the second graph also tells us that, where the security breach involves very sensitive data such as SSN and credit card details, the stock value is pulled down drastically. But for email address breaches, the stock value remain more or less the same. \n",
    "\n",
    "According to the reference material given to read: \"What is a compromised record? We define a record as information that identifies the natural person (individual) whose information has been lost or stolen in a data breach. One example is aretail company’s database with an individual’s name associated with credit card information and other personally identifiable information. Another is ahealth insurer’s record of the policyholder with physician and payment information. In this year’s study, the average cost to the organization per compromised recordwas$141\"\n",
    "\n",
    "Hence, we can see that whenever there is a high sensitive data loss, it has resulted in lowering of the stock value. \n",
    "\n",
    "Advantage: We can see easily compare the overall stock value for different year and the impact on stock value whenever a security breach is reported. \n",
    "Also, we can see how the market value is affected depending upon the data that is being stolen. \n",
    "\n",
    "Disadvantage: Does not show how an individual company's stock price is being affected by the security breaches within a company. It is just an overview. \n",
    "\n",
    "Second Version: https://public.tableau.com/views/Lab3-SecondVersion/Dashboard2?:embed=y&:display_count=yes&publish=yes\n",
    "Advantage: The table shows how security breach can bring down the stock price of a company. \n",
    "Disadvantage: There is data for just one company and hence it is not conclusive. \n",
    "\n",
    "First Version: https://public.tableau.com/views/Lab3-FirstVersion/Dashboard3?:embed=y&:display_count=yes&publish=yes\n",
    "Advantage: Shows the overall impact on market \n",
    "Disadvantage: It is just an overview and no details on how type of data stolen impacts the market.\n",
    "\n",
    "Intermediate version: https://public.tableau.com/views/Lab3-IntermediateVersion/Dashboard1?:embed=y&:display_count=yes&publish=yes\n",
    "\n",
    "Advantage: The graph shows that the stock market is more or less the same\n",
    "Dsiadvantage: It does not explain the anomaly properly\n",
    "            \n",
    "            "
   ]
  }
 ],
 "metadata": {
  "kernelspec": {
   "display_name": "Python 3",
   "language": "python",
   "name": "python3"
  },
  "language_info": {
   "codemirror_mode": {
    "name": "ipython",
    "version": 3
   },
   "file_extension": ".py",
   "mimetype": "text/x-python",
   "name": "python",
   "nbconvert_exporter": "python",
   "pygments_lexer": "ipython3",
   "version": "3.6.2"
  }
 },
 "nbformat": 4,
 "nbformat_minor": 2
}
