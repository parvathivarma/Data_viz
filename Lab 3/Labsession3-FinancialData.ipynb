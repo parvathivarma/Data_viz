{
 "cells": [
  {
   "cell_type": "markdown",
   "metadata": {},
   "source": [
    "                                        Assignment 3 on Secrurity Breach\n",
    "                                        - Impact on Financial Market\n",
    "                                        \n",
    "     We will be using the same dataset as provided for previous assignment. We will add a new column that contains stock value. This will give the stock value of every company in the previous data set for all timeframes. We can hence evaluate the impact of security breaches on financial market. \n",
    "     \n",
    "     Steps followed: 1. We will first libraries that we will be using to pull data\n",
    "                     2. We are given a yahoo URL that has to be queried with ticker symbol of respective companies.\n",
    "                     3. We will extract the ticker symbol using the URL that opens up a json file.\n",
    "                     4. Using that ticker symbol, we can find stock value for any given timeframe using pandas datareader. "
   ]
  },
  {
   "cell_type": "code",
   "execution_count": 37,
   "metadata": {
    "ExecuteTime": {
     "end_time": "2017-10-07T00:35:55.338762Z",
     "start_time": "2017-10-07T00:35:55.316404Z"
    },
    "collapsed": true
   },
   "outputs": [],
   "source": [
    "import pandas as pd\n",
    "import pandas_datareader as pdr\n",
    "import datetime as dt\n",
    "from fuzzywuzzy import fuzz\n",
    "from fuzzywuzzy import process\n"
   ]
  },
  {
   "cell_type": "code",
   "execution_count": 38,
   "metadata": {
    "ExecuteTime": {
     "end_time": "2017-10-07T00:35:55.345392Z",
     "start_time": "2017-10-07T00:34:56.085Z"
    },
    "collapsed": true
   },
   "outputs": [],
   "source": [
    "read_data = pd.read_csv(\"Assignment_2v4.csv\") #reading the file from previous assignment (lab2)"
   ]
  },
  {
   "cell_type": "markdown",
   "metadata": {},
   "source": [
    "We will replace the {} symbol in the URL with the company name in a loop and find out the ticker symbol from the json file where <symbol:ticker> is a key value pair"
   ]
  },
  {
   "cell_type": "code",
   "execution_count": 39,
   "metadata": {
    "ExecuteTime": {
     "end_time": "2017-10-07T00:35:55.348851Z",
     "start_time": "2017-10-07T00:34:57.050Z"
    }
   },
   "outputs": [
    {
     "name": "stdout",
     "output_type": "stream",
     "text": [
      "['AOL-U.TI', 'ADP', None, 'CIT-U.TI', None, 'HPQ', None, 'KDDIY', None, 'AOL-U.TI', None, None, None, 'GPS', None, None, None, None, None, 'AMTD', 'FIS', 'DNPCF', None, None, None, None, None, 'SBUX', 'AT', None, None, None, '^UMIAMIFL', None, None, None, None, None, None, None, None, None, None, None, None, 'LYNS', None, None, 'IGRW', None, None, None, None, 'HTLD', None, None, 'AT', None, None, None, None, None, None, None, None, None, None, None, None, None, None, 'PPB.L', 'JPM-PB', None, None, None, None, None, None, None, None, None, None, None, None, None, None, 'CIT-U.TI', None, None, 'GB00B1Z54R10.L', None, None, None, None, 'MBSS.JK', None, None, None, None, None, None, 'NHS', None, None, None, None, 'SAND-P.V', None, None, None, None, None, None, None, None, None, None, None, None, None, 'GPN', None, None, 'KTC.DU', None, None, 'ATVI', None, None, None, 'K55306BA2822.KS', None, 'KCT.V', None, None, None, None, None, None, None, 'CIT-U.TI', None, '2GF.F', 'NTDOY', 'TWTR', 'AAPL', None, None, 'NMBS.KL', None, None, 'VOD', None, None, None, 'FB', 'YAHOY', 'ADBE', None, None, None, 'AABA', 'OVH.AX', 'UBI.PA', None, None, 'NDAQ', None, 'JAPSY', None, 'D', None, 'SPLS', 'AOL-U.TI', None, 'UPS', 'CYH', None, None, None, None, 'HD', 'TGT', 'JPM-PB', 'EBAY', 'AABA', None, None, 'IRS', 'TALK.L', 'MSPYX', None, None, None, None, None, 'CPWFF8.EX', 'SJ8.MU', None, None, '0303.HK', None, None, None, None, None, None, None, None, None, None, None, 'VZ', None, None, None, None, None, None, None, None, None, 'FLINGX', None, None, 'ANTM', 'VKTX', None, None, None, 'DGX', 'ATGYX', None, None, None, None, None, None, None, None, None, None, '035080.KQ', None, 'AABA', None, None, None, None, '1880.HK', None, None, None, '^CEX', None, None, 'EFX', None]\n"
     ]
    }
   ],
   "source": [
    "import requests\n",
    "import json\n",
    "import urllib\n",
    "\n",
    "def get_symbol(name):\n",
    "    url = \"http://d.yimg.com/autoc.finance.yahoo.com/autoc?query={}&region=1&lang=en\".format(name)\n",
    "\n",
    "    result = requests.get(url).json()\n",
    "    \n",
    "    for x in result['ResultSet']['Result']:\n",
    "        \n",
    "            \n",
    "                    return x['symbol']\n",
    "        \n",
    "\n",
    "ticker=[]\n",
    "cmp_name = read_data.Entity\n",
    "\n",
    "    \n",
    "for  xyz in cmp_name:\n",
    "    ticker.append(get_symbol(xyz))\n",
    "    \n",
    "    \n",
    "print(ticker)"
   ]
  },
  {
   "cell_type": "markdown",
   "metadata": {},
   "source": [
    "We will now use the list of ticker symbol that we extracted and run the pandas datareader query that will give us the stock value for all."
   ]
  },
  {
   "cell_type": "code",
   "execution_count": 26,
   "metadata": {
    "ExecuteTime": {
     "end_time": "2017-10-07T00:35:55.351208Z",
     "start_time": "2017-10-07T00:34:58.500Z"
    }
   },
   "outputs": [
    {
     "name": "stderr",
     "output_type": "stream",
     "text": [
      "/anaconda3/lib/python3.6/site-packages/pandas_datareader/yahoo/daily.py:136: SymbolWarning: Failed to read symbol: 'AOL-U.TI', replacing with NaN.\n",
      "  warnings.warn(msg.format(sym), SymbolWarning)\n",
      "/anaconda3/lib/python3.6/site-packages/pandas_datareader/yahoo/daily.py:136: SymbolWarning: Failed to read symbol: None, replacing with NaN.\n",
      "  warnings.warn(msg.format(sym), SymbolWarning)\n",
      "/anaconda3/lib/python3.6/site-packages/pandas_datareader/yahoo/daily.py:136: SymbolWarning: Failed to read symbol: 'CIT-U.TI', replacing with NaN.\n",
      "  warnings.warn(msg.format(sym), SymbolWarning)\n",
      "/anaconda3/lib/python3.6/site-packages/pandas_datareader/yahoo/daily.py:136: SymbolWarning: Failed to read symbol: '^UMIAMIFL', replacing with NaN.\n",
      "  warnings.warn(msg.format(sym), SymbolWarning)\n",
      "/anaconda3/lib/python3.6/site-packages/pandas_datareader/yahoo/daily.py:136: SymbolWarning: Failed to read symbol: 'JPM-PB', replacing with NaN.\n",
      "  warnings.warn(msg.format(sym), SymbolWarning)\n",
      "/anaconda3/lib/python3.6/site-packages/pandas_datareader/yahoo/daily.py:136: SymbolWarning: Failed to read symbol: 'KCT.V', replacing with NaN.\n",
      "  warnings.warn(msg.format(sym), SymbolWarning)\n",
      "/anaconda3/lib/python3.6/site-packages/pandas_datareader/yahoo/daily.py:136: SymbolWarning: Failed to read symbol: 'NMBS.KL', replacing with NaN.\n",
      "  warnings.warn(msg.format(sym), SymbolWarning)\n",
      "/anaconda3/lib/python3.6/site-packages/pandas_datareader/yahoo/daily.py:136: SymbolWarning: Failed to read symbol: 'CPWFF8.EX', replacing with NaN.\n",
      "  warnings.warn(msg.format(sym), SymbolWarning)\n",
      "/anaconda3/lib/python3.6/site-packages/pandas_datareader/yahoo/daily.py:136: SymbolWarning: Failed to read symbol: 'FLINGX', replacing with NaN.\n",
      "  warnings.warn(msg.format(sym), SymbolWarning)\n",
      "/anaconda3/lib/python3.6/site-packages/pandas_datareader/yahoo/daily.py:136: SymbolWarning: Failed to read symbol: '1880.HK', replacing with NaN.\n",
      "  warnings.warn(msg.format(sym), SymbolWarning)\n"
     ]
    }
   ],
   "source": [
    "startdate = dt.datetime(2004,1,1)\n",
    "enddate = dt.datetime(2017,6,6)\n",
    "datasource = 'yahoo'\n",
    "panel_data = pdr.DataReader(ticker, datasource, startdate, enddate)"
   ]
  },
  {
   "cell_type": "code",
   "execution_count": 27,
   "metadata": {
    "ExecuteTime": {
     "end_time": "2017-10-07T00:36:28.768397Z",
     "start_time": "2017-10-07T00:36:28.755882Z"
    },
    "scrolled": true
   },
   "outputs": [
    {
     "data": {
      "text/plain": [
       "<class 'pandas.core.panel.Panel'>\n",
       "Dimensions: 6 (items) x 3574 (major_axis) x 65 (minor_axis)\n",
       "Items axis: Adj Close to Volume\n",
       "Major_axis axis: 2004-01-01 00:00:00 to 2017-06-07 00:00:00\n",
       "Minor_axis axis: ADP to 1880.HK"
      ]
     },
     "execution_count": 27,
     "metadata": {},
     "output_type": "execute_result"
    }
   ],
   "source": [
    "panel_data"
   ]
  },
  {
   "cell_type": "code",
   "execution_count": 47,
   "metadata": {
    "ExecuteTime": {
     "end_time": "2017-10-07T00:36:23.230068Z",
     "start_time": "2017-10-07T00:36:23.212160Z"
    }
   },
   "outputs": [],
   "source": [
    "\n",
    "closefile = panel_data.ix['Close']\n",
    "\n",
    "#We are trying to get all the weekdays between 2004 and 2017\n",
    "all_weekdays = pd.date_range(start=startdate, end=enddate, freq='B')\n",
    "\n",
    "\n",
    "close = closefile.reindex(all_weekdays)\n"
   ]
  },
  {
   "cell_type": "markdown",
   "metadata": {},
   "source": [
    "Convert into csv file and save it"
   ]
  },
  {
   "cell_type": "code",
   "execution_count": 41,
   "metadata": {
    "ExecuteTime": {
     "end_time": "2017-10-07T00:36:15.796971Z",
     "start_time": "2017-10-07T00:36:15.780959Z"
    }
   },
   "outputs": [],
   "source": [
    "close.to_csv('actualdata.csv', index=True, encoding='utf-8')"
   ]
  },
  {
   "cell_type": "code",
   "execution_count": 42,
   "metadata": {
    "collapsed": true
   },
   "outputs": [],
   "source": [
    "data_ticker = pd.DataFrame(ticker) \n",
    "data_ticker['Ticker_Symbol'] = pd.Series(ticker, index=data_ticker.index)"
   ]
  },
  {
   "cell_type": "code",
   "execution_count": 43,
   "metadata": {
    "collapsed": true
   },
   "outputs": [],
   "source": [
    "read_data['Ticker_symbol']= data_ticker['Ticker_Symbol']"
   ]
  },
  {
   "cell_type": "code",
   "execution_count": 44,
   "metadata": {
    "collapsed": true
   },
   "outputs": [],
   "source": [
    "#Drop empty columns(axis=1 for columns and axis=0 for rows; \n",
    "#how='all' to drop if all values are nan and how='any' to drop if any value is nan)\n",
    "read_data = Data.dropna(axis=0,how='any')"
   ]
  },
  {
   "cell_type": "code",
   "execution_count": 46,
   "metadata": {
    "collapsed": true
   },
   "outputs": [],
   "source": [
    "read_data.to_csv('stockdata.csv', index=True, encoding='utf-8')"
   ]
  }
 ],
 "metadata": {
  "kernelspec": {
   "display_name": "Python 3",
   "language": "python",
   "name": "python3"
  },
  "language_info": {
   "codemirror_mode": {
    "name": "ipython",
    "version": 3
   },
   "file_extension": ".py",
   "mimetype": "text/x-python",
   "name": "python",
   "nbconvert_exporter": "python",
   "pygments_lexer": "ipython3",
   "version": "3.6.2"
  },
  "toc": {
   "nav_menu": {},
   "number_sections": true,
   "sideBar": true,
   "skip_h1_title": false,
   "toc_cell": false,
   "toc_position": {},
   "toc_section_display": "block",
   "toc_window_display": false
  },
  "varInspector": {
   "cols": {
    "lenName": 16,
    "lenType": 16,
    "lenVar": 40
   },
   "kernels_config": {
    "python": {
     "delete_cmd_postfix": "",
     "delete_cmd_prefix": "del ",
     "library": "var_list.py",
     "varRefreshCmd": "print(var_dic_list())"
    },
    "r": {
     "delete_cmd_postfix": ") ",
     "delete_cmd_prefix": "rm(",
     "library": "var_list.r",
     "varRefreshCmd": "cat(var_dic_list()) "
    }
   },
   "types_to_exclude": [
    "module",
    "function",
    "builtin_function_or_method",
    "instance",
    "_Feature"
   ],
   "window_display": false
  }
 },
 "nbformat": 4,
 "nbformat_minor": 2
}
