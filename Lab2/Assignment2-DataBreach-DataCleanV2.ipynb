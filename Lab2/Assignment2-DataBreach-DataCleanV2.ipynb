{
 "cells": [
  {
   "cell_type": "markdown",
   "metadata": {},
   "source": [
    "# Importing libraries"
   ]
  },
  {
   "cell_type": "code",
   "execution_count": 22,
   "metadata": {
    "ExecuteTime": {
     "end_time": "2017-09-28T05:52:32.812397Z",
     "start_time": "2017-09-28T05:52:31.907929Z"
    },
    "collapsed": true
   },
   "outputs": [],
   "source": [
    "import pandas as pd\n",
    "import numpy as nm\n",
    "import matplotlib as mp\n",
    "%matplotlib inline\n",
    "import matplotlib.pyplot as plt\n",
    "from ipywidgets import interact\n",
    "import seaborn as sns\n"
   ]
  },
  {
   "cell_type": "markdown",
   "metadata": {},
   "source": [
    "# Reading Excel File\n"
   ]
  },
  {
   "cell_type": "code",
   "execution_count": 23,
   "metadata": {
    "ExecuteTime": {
     "end_time": "2017-09-28T05:52:33.072807Z",
     "start_time": "2017-09-28T05:52:32.816075Z"
    },
    "collapsed": true
   },
   "outputs": [],
   "source": [
    "assign1 = pd.read_excel(\"InformationisBeautiful_DataBreaches.xlsx\")"
   ]
  },
  {
   "cell_type": "markdown",
   "metadata": {},
   "source": [
    "# Removing the unused columns"
   ]
  },
  {
   "cell_type": "code",
   "execution_count": 24,
   "metadata": {
    "ExecuteTime": {
     "end_time": "2017-09-28T05:52:33.096858Z",
     "start_time": "2017-09-28T05:52:33.075401Z"
    },
    "collapsed": true
   },
   "outputs": [],
   "source": [
    "#Commands to remove all columns that are not mentioned in the document shared\n",
    "del assign1['Unnamed: 7']\n",
    "del assign1['Unnamed: 10']\n",
    "del assign1['Unnamed: 11']\n",
    "del assign1['Unnamed: 12']\n",
    "del assign1['Unnamed: 13']\n",
    "del assign1['alternative name']\n",
    "del assign1['story']\n",
    "del assign1['1st source link']\n",
    "del assign1['2nd source link']\n",
    "del assign1['3rd source']\n",
    "del assign1['source name']\n"
   ]
  },
  {
   "cell_type": "code",
   "execution_count": 25,
   "metadata": {
    "ExecuteTime": {
     "end_time": "2017-09-28T05:52:33.158271Z",
     "start_time": "2017-09-28T05:52:33.100131Z"
    },
    "collapsed": true
   },
   "outputs": [],
   "source": [
    "#excel sheet after removing all the unneccessary columns\n"
   ]
  },
  {
   "cell_type": "code",
   "execution_count": 26,
   "metadata": {
    "ExecuteTime": {
     "end_time": "2017-09-28T05:52:33.173873Z",
     "start_time": "2017-09-28T05:52:33.166417Z"
    },
    "collapsed": true
   },
   "outputs": [],
   "source": [
    "#make a copy of the excel file \n",
    "assign2 = assign1"
   ]
  },
  {
   "cell_type": "code",
   "execution_count": 27,
   "metadata": {
    "ExecuteTime": {
     "end_time": "2017-09-28T05:52:33.181926Z",
     "start_time": "2017-09-28T05:52:33.176641Z"
    },
    "collapsed": true
   },
   "outputs": [],
   "source": [
    "#format the column title\n",
    "assign2 = assign2.rename(columns={'YEAR':'Year','records lost':'Records Lost','ORGANISATION':'Organization','METHOD OF LEAK':'Method of Leak','DATA SENSITIVITY':'Data Sensitivity'})"
   ]
  },
  {
   "cell_type": "code",
   "execution_count": 28,
   "metadata": {
    "ExecuteTime": {
     "end_time": "2017-09-28T05:52:33.283434Z",
     "start_time": "2017-09-28T05:52:33.185694Z"
    },
    "collapsed": true
   },
   "outputs": [],
   "source": [
    "#decode Year column as given in the instructions\n",
    "assign2.loc[assign2.Year==0,'Year']=2004\n",
    "assign2.loc[assign2.Year==1,'Year']=2005\n",
    "assign2.loc[assign2.Year==2,'Year']=2006\n",
    "assign2.loc[assign2.Year==3,'Year']=2007\n",
    "assign2.loc[assign2.Year==4,'Year']=2008\n",
    "assign2.loc[assign2.Year==5,'Year']=2009\n",
    "assign2.loc[assign2.Year==6,'Year']=2010\n",
    "assign2.loc[assign2.Year==7,'Year']=2011\n",
    "assign2.loc[assign2.Year==8,'Year']=2012\n",
    "assign2.loc[assign2.Year==9,'Year']=2013\n",
    "assign2.loc[assign2.Year==10,'Year']=2014\n",
    "assign2.loc[assign2.Year==11,'Year']=2015\n",
    "assign2.loc[assign2.Year==12,'Year']=2016\n",
    "assign2.loc[assign2.Year==13,'Year']=2017\n",
    "assign2.loc[assign2.Year==14,'Year']=2017"
   ]
  },
  {
   "cell_type": "code",
   "execution_count": 29,
   "metadata": {
    "ExecuteTime": {
     "end_time": "2017-09-28T05:52:33.294559Z",
     "start_time": "2017-09-28T05:52:33.288888Z"
    },
    "collapsed": true
   },
   "outputs": [],
   "source": [
    "#Remove 0th row\n",
    "assign2 = assign2.iloc[1:]"
   ]
  },
  {
   "cell_type": "code",
   "execution_count": 30,
   "metadata": {
    "ExecuteTime": {
     "end_time": "2017-09-28T05:52:33.363384Z",
     "start_time": "2017-09-28T05:52:33.299402Z"
    },
    "collapsed": true
   },
   "outputs": [],
   "source": [
    "assign2['Data Sensitivity'] = pd.to_numeric(assign2['Data Sensitivity'])"
   ]
  },
  {
   "cell_type": "code",
   "execution_count": 31,
   "metadata": {
    "ExecuteTime": {
     "end_time": "2017-09-28T05:52:33.407364Z",
     "start_time": "2017-09-28T05:52:33.371039Z"
    },
    "collapsed": true
   },
   "outputs": [],
   "source": [
    "#decode data sensitivity column as per the instruction in excel sheet.\n",
    "assign2.loc[(assign2['Data Sensitivity']==1),'Data Sensitivity']='Just Email Addresses/Online Information'\n",
    "assign2.loc[(assign2['Data Sensitivity']==20),'Data Sensitivity']='SSN/Personal Details'\n",
    "assign2.loc[(assign2['Data Sensitivity']==300),'Data Sensitivity']='Credit card Information'\n",
    "assign2.loc[(assign2['Data Sensitivity']==4000),'Data Sensitivity']='Email Passwords/Health Records'\n",
    "assign2.loc[(assign2['Data Sensitivity']==50000),'Data Sensitivity']='Full Bank Account Details'"
   ]
  },
  {
   "cell_type": "code",
   "execution_count": 32,
   "metadata": {},
   "outputs": [
    {
     "data": {
      "text/plain": [
       "True"
      ]
     },
     "execution_count": 32,
     "metadata": {},
     "output_type": "execute_result"
    }
   ],
   "source": [
    "#Find out if there are any missing values\n",
    "assign2.isnull().values.any()"
   ]
  },
  {
   "cell_type": "code",
   "execution_count": 33,
   "metadata": {},
   "outputs": [
    {
     "data": {
      "text/plain": [
       "Entity                  0\n",
       "Year                    0\n",
       "Records Lost            2\n",
       "Organization            0\n",
       "Method of Leak          0\n",
       "NO OF RECORDS STOLEN    0\n",
       "Data Sensitivity        0\n",
       "dtype: int64"
      ]
     },
     "execution_count": 33,
     "metadata": {},
     "output_type": "execute_result"
    }
   ],
   "source": [
    "#Find out the column that has null value\n",
    "assign2.isnull().sum()"
   ]
  },
  {
   "cell_type": "code",
   "execution_count": 34,
   "metadata": {},
   "outputs": [
    {
     "data": {
      "text/html": [
       "<div>\n",
       "<style>\n",
       "    .dataframe thead tr:only-child th {\n",
       "        text-align: right;\n",
       "    }\n",
       "\n",
       "    .dataframe thead th {\n",
       "        text-align: left;\n",
       "    }\n",
       "\n",
       "    .dataframe tbody tr th {\n",
       "        vertical-align: top;\n",
       "    }\n",
       "</style>\n",
       "<table border=\"1\" class=\"dataframe\">\n",
       "  <thead>\n",
       "    <tr style=\"text-align: right;\">\n",
       "      <th></th>\n",
       "      <th>Entity</th>\n",
       "      <th>Year</th>\n",
       "      <th>Records Lost</th>\n",
       "      <th>Organization</th>\n",
       "      <th>Method of Leak</th>\n",
       "      <th>NO OF RECORDS STOLEN</th>\n",
       "      <th>Data Sensitivity</th>\n",
       "    </tr>\n",
       "  </thead>\n",
       "  <tbody>\n",
       "    <tr>\n",
       "      <th>164</th>\n",
       "      <td>OVH</td>\n",
       "      <td>2013</td>\n",
       "      <td>NaN</td>\n",
       "      <td>web</td>\n",
       "      <td>hacked</td>\n",
       "      <td>500000</td>\n",
       "      <td>SSN/Personal Details</td>\n",
       "    </tr>\n",
       "    <tr>\n",
       "      <th>165</th>\n",
       "      <td>UbiSoft</td>\n",
       "      <td>2013</td>\n",
       "      <td>NaN</td>\n",
       "      <td>gaming</td>\n",
       "      <td>hacked</td>\n",
       "      <td>58000000</td>\n",
       "      <td>SSN/Personal Details</td>\n",
       "    </tr>\n",
       "  </tbody>\n",
       "</table>\n",
       "</div>"
      ],
      "text/plain": [
       "      Entity  Year Records Lost Organization Method of Leak  \\\n",
       "164      OVH  2013          NaN          web         hacked   \n",
       "165  UbiSoft  2013          NaN       gaming         hacked   \n",
       "\n",
       "    NO OF RECORDS STOLEN      Data Sensitivity  \n",
       "164               500000  SSN/Personal Details  \n",
       "165             58000000  SSN/Personal Details  "
      ]
     },
     "execution_count": 34,
     "metadata": {},
     "output_type": "execute_result"
    }
   ],
   "source": [
    "#Identify the rows that have null value for the column 'Records Lost'\n",
    "assign2[assign2.isnull().any(axis=1)]"
   ]
  },
  {
   "cell_type": "code",
   "execution_count": 35,
   "metadata": {
    "collapsed": true
   },
   "outputs": [],
   "source": [
    "assign_try = assign2\n"
   ]
  },
  {
   "cell_type": "code",
   "execution_count": 36,
   "metadata": {
    "collapsed": true
   },
   "outputs": [],
   "source": [
    "assign_try['Records Lost'].fillna(assign_try['NO OF RECORDS STOLEN'],inplace = True)\n"
   ]
  },
  {
   "cell_type": "code",
   "execution_count": 37,
   "metadata": {
    "collapsed": true
   },
   "outputs": [],
   "source": [
    "del assign_try['NO OF RECORDS STOLEN']\n"
   ]
  },
  {
   "cell_type": "code",
   "execution_count": 38,
   "metadata": {},
   "outputs": [
    {
     "data": {
      "text/plain": [
       "Entity              0\n",
       "Year                0\n",
       "Records Lost        0\n",
       "Organization        0\n",
       "Method of Leak      0\n",
       "Data Sensitivity    0\n",
       "dtype: int64"
      ]
     },
     "execution_count": 38,
     "metadata": {},
     "output_type": "execute_result"
    }
   ],
   "source": [
    "#Find out the column that has null value\n",
    "assign_try.isnull().sum()"
   ]
  },
  {
   "cell_type": "code",
   "execution_count": 39,
   "metadata": {},
   "outputs": [
    {
     "data": {
      "image/png": "[encoded data removed]",
      "text/plain": [
       "<matplotlib.figure.Figure at 0x1a153b11d0>"
      ]
     },
     "metadata": {},
     "output_type": "display_data"
    }
   ],
   "source": [
    " #Analyse the data\n",
    "assign_try['Records Lost'] = pd.to_numeric(assign_try['Records Lost'])\n",
    "assign_try.describe()\n",
    "assign_try['Records Lost'].describe()\n",
    "\n",
    "plotdata = assign_try[['Year','Records Lost','Entity','Method of Leak']]\n",
    "plotdata_group = plotdata.groupby(['Year','Method of Leak']).sum()\n",
    "\n",
    "plotdata_group.unstack().head\n",
    "plotdata_total = plotdata_group.sum()\n",
    "myplot = plotdata_group.unstack().plot(kind ='bar',stacked = 'True')"
   ]
  },
  {
   "cell_type": "markdown",
   "metadata": {},
   "source": [
    "# Write to excel file "
   ]
  },
  {
   "cell_type": "code",
   "execution_count": 40,
   "metadata": {
    "ExecuteTime": {
     "end_time": "2017-09-28T05:52:33.520152Z",
     "start_time": "2017-09-28T05:52:33.410917Z"
    },
    "collapsed": true
   },
   "outputs": [],
   "source": [
    "assign_try.to_excel(\"Assignment2_databreach_v1.xlsx\")"
   ]
  },
  {
   "cell_type": "code",
   "execution_count": 41,
   "metadata": {
    "collapsed": true
   },
   "outputs": [],
   "source": [
    "assign_try.to_csv(\"Assignment_2v4.csv\", index=False)"
   ]
  }
 ],
 "metadata": {
  "kernelspec": {
   "display_name": "Python 3",
   "language": "python",
   "name": "python3"
  },
  "language_info": {
   "codemirror_mode": {
    "name": "ipython",
    "version": 3
   },
   "file_extension": ".py",
   "mimetype": "text/x-python",
   "name": "python",
   "nbconvert_exporter": "python",
   "pygments_lexer": "ipython3",
   "version": "3.6.2"
  },
  "toc": {
   "nav_menu": {},
   "number_sections": true,
   "sideBar": true,
   "skip_h1_title": false,
   "toc_cell": false,
   "toc_position": {},
   "toc_section_display": "block",
   "toc_window_display": false
  },
  "varInspector": {
   "cols": {
    "lenName": 16,
    "lenType": 16,
    "lenVar": 40
   },
   "kernels_config": {
    "python": {
     "delete_cmd_postfix": "",
     "delete_cmd_prefix": "del ",
     "library": "var_list.py",
     "varRefreshCmd": "print(var_dic_list())"
    },
    "r": {
     "delete_cmd_postfix": ") ",
     "delete_cmd_prefix": "rm(",
     "library": "var_list.r",
     "varRefreshCmd": "cat(var_dic_list()) "
    }
   },
   "types_to_exclude": [
    "module",
    "function",
    "builtin_function_or_method",
    "instance",
    "_Feature"
   ],
   "window_display": false
  }
 },
 "nbformat": 4,
 "nbformat_minor": 2
}
