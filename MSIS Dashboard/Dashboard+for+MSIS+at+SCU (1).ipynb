{
 "cells": [
  {
   "cell_type": "markdown",
   "metadata": {},
   "source": [
    "                                    Lab Session - 4\n",
    "                                    MSIS Dashboard\n",
    "                                    \n",
    "      Task: Create MSIS Dashboard for Santa Clara University that will help students and recruiters make decisions. \n",
    "      \n",
    "      Steps: We extract data from various websites such as Payscale.com, scu.edu and other web pages where we get information on University/program ranking, job prospects, cost of living, tution fee etc. \n",
    "      \n",
    "     I have explained the claim, data, qualifier, warrant, backing and reservation underneath each graph in each section of this notebook. "
   ]
  },
  {
   "cell_type": "markdown",
   "metadata": {},
   "source": [
    "# CLAIM: Santa Clara university is very good for pursuing MSIS Degree\n",
    "  QUALIFIER: I have taken Silicon Valley universities to compare the results (Applies to all the analysis done in this iteration)"
   ]
  },
  {
   "cell_type": "code",
   "execution_count": 1,
   "metadata": {
    "collapsed": true
   },
   "outputs": [],
   "source": [
    "from bs4 import BeautifulSoup\n",
    "\n",
    "import requests\n",
    "\n",
    "req  = requests.get(\"https://www.collegefactual.com/colleges/santa-clara-university/paying-for-college/room-and-board/\")\n",
    "\n",
    "soup = BeautifulSoup(req.content, 'html.parser')\n",
    "\n",
    "table = soup.find_all('table')\n",
    "\n",
    "table = soup.find_all('table')[2]\n",
    "\n",
    "rows = table.find_all('tr')[2:]\n"
   ]
  },
  {
   "cell_type": "code",
   "execution_count": 2,
   "metadata": {
    "collapsed": true
   },
   "outputs": [],
   "source": [
    "for row in rows:\n",
    "    cols = row.find_all('td')\n",
    "\n",
    "data = {\n",
    "    'Expense' : [],\n",
    "    'On Campus' : [],\n",
    "    'Off Campus' : []\n",
    "  }"
   ]
  },
  {
   "cell_type": "code",
   "execution_count": 3,
   "metadata": {
    "collapsed": true
   },
   "outputs": [],
   "source": [
    "for row in rows:\n",
    "    cols = row.find_all('td')    \n",
    "    data['Expense'].append( cols[0].get_text() )\n",
    "    data['On Campus'].append( cols[1].get_text() )\n",
    "    data['Off Campus'].append( cols[2].get_text() )"
   ]
  },
  {
   "cell_type": "code",
   "execution_count": 4,
   "metadata": {
    "collapsed": true
   },
   "outputs": [],
   "source": [
    "import pandas as pd;\n",
    "Expense_Scu = pd.DataFrame( data )\n",
    "\n",
    "Expense_Scu.to_csv(\"Expense_scu.csv\")"
   ]
  },
  {
   "cell_type": "markdown",
   "metadata": {},
   "source": [
    "Similary, we can extract the living expense for few other universities in west coast for comparison purpose"
   ]
  },
  {
   "cell_type": "code",
   "execution_count": 5,
   "metadata": {
    "collapsed": true
   },
   "outputs": [],
   "source": [
    "# Living expense for SJSU\n",
    "\n",
    "req  = requests.get(\"https://www.collegefactual.com/colleges/san-jose-state-university/paying-for-college/room-and-board/\")\n",
    "\n",
    "soup = BeautifulSoup(req.content, 'html.parser')\n",
    "\n",
    "table = soup.find_all('table')\n",
    "\n",
    "table = soup.find_all('table')[2]\n",
    "\n",
    "rows = table.find_all('tr')[2:]"
   ]
  },
  {
   "cell_type": "code",
   "execution_count": 6,
   "metadata": {
    "collapsed": true
   },
   "outputs": [],
   "source": [
    "for row in rows:\n",
    "    cols = row.find_all('td')\n",
    "\n",
    "data = {\n",
    "    'Expense' : [],\n",
    "    'On Campus' : []\n",
    "  }"
   ]
  },
  {
   "cell_type": "code",
   "execution_count": 7,
   "metadata": {
    "collapsed": true
   },
   "outputs": [],
   "source": [
    "for row in rows:\n",
    "    cols = row.find_all('td')    \n",
    "    data['Expense'].append( cols[0].get_text() )\n",
    "    data['On Campus'].append( cols[1].get_text() )"
   ]
  },
  {
   "cell_type": "code",
   "execution_count": 8,
   "metadata": {
    "collapsed": true
   },
   "outputs": [],
   "source": [
    "import pandas as pd;\n",
    "Expense_Sjsu = pd.DataFrame( data )\n",
    "\n",
    "Expense_Sjsu.to_csv(\"Expense_sjsu.csv\")"
   ]
  },
  {
   "cell_type": "markdown",
   "metadata": {},
   "source": [
    "Also, we extract for other universities by replacing the URL with the university URL"
   ]
  },
  {
   "cell_type": "markdown",
   "metadata": {},
   "source": [
    "<img src = \"cost of living.png\">"
   ]
  },
  {
   "cell_type": "markdown",
   "metadata": {},
   "source": [
    "                      Data: https://www.collegefactual.com/colleges/santa-clara-university/paying-for-college/room-and-board/  \n",
    "                       Description: We find that the above graph does not support the claim as \"cost of living\" alone cannot be a measure in proving our claim. In the graph, I have taken the cost of living by extracting the tution fee (That includes the number of units and fee for each unit) and the rent expenses along with food under the category of (Room and Board). \n",
    "                       \n",
    "                        Warrant: If the living expense is high, it shows that the it will be difficult pursue student life at SCU. \n",
    "                        Backing: http://www.areavibes.com/santa+clara-ca/cost-of-living/\n",
    "                        Reservation: Number of units (courses) offered at Santa Clara is way more than other universities and hence the high Tution fee: https://www.scu.edu/business/ms-information-systems/curriculum/\n",
    "                        \n",
    "                        Disadvantage: It does not support the claim as mentioned in the description \n",
    "                        Advantage: It is also a factor to consider admission in one university"
   ]
  },
  {
   "cell_type": "markdown",
   "metadata": {},
   "source": [
    "# ranking of all universities\n",
    "\n"
   ]
  },
  {
   "cell_type": "code",
   "execution_count": 13,
   "metadata": {
    "collapsed": true
   },
   "outputs": [],
   "source": [
    "req  = requests.get(\"https://www.scu.edu/business/ms-information-systems/prospective-students/class-profile/\")"
   ]
  },
  {
   "cell_type": "code",
   "execution_count": 14,
   "metadata": {},
   "outputs": [
    {
     "name": "stdout",
     "output_type": "stream",
     "text": [
      "                      Women : 51% Average age : 26 Multilingual :  89% Average undergraduate GPA  3.2 Average GMAT  650 Average GRE  308 % holding graduate degrees  20% Average work experience :  2.3 years Employed at time of admission : 66% Selected hiring companies :  Apple, Cisco, Ernst & Young, Facebook, NetApp, NVIDIA, Symantec, Twitter\n"
     ]
    }
   ],
   "source": [
    "soup = BeautifulSoup(req.content, 'html.parser')\n",
    "import json\n",
    "script =  soup.find_all('p')\n",
    "linkData = script\n",
    "\n",
    "\n",
    "var1 = linkData[1].text\n",
    "var2 = linkData[2].text\n",
    "var3 = linkData[3].text\n",
    "var4 = linkData[4].text\n",
    "var5 = linkData[5].text\n",
    "var6 = linkData[6].text\n",
    "var7 = linkData[7].text\n",
    "var8 = linkData[8].text\n",
    "var9 = linkData[9].text\n",
    "var10 = linkData[10].text\n",
    "var11 = linkData[11].text\n",
    "\n",
    "# Approach 1: Just print variables comma-separated\n",
    "print (var1,var2,var3,var4,var5,var6,var7,var8,var9,var10,var11)\n"
   ]
  },
  {
   "cell_type": "code",
   "execution_count": 9,
   "metadata": {
    "collapsed": true
   },
   "outputs": [],
   "source": [
    "import pandas as pd\n",
    "url = 'http://higheredublog.com/top-universities-for-ms-in-mis-in-usa/'\n",
    "data = pd.read_html(url, header = 0)\n",
    "\n",
    "data1 = data[0]\n",
    "data1.head()\n",
    "\n",
    "data1.columns = ['RANKING', 'UNIVERSITY', 'PROGRAM']\n",
    "\n",
    "df = pd.DataFrame(data1)\n",
    "\n",
    "df.to_csv('Ranking_universities.csv', index=False, encoding='utf-8')"
   ]
  },
  {
   "cell_type": "markdown",
   "metadata": {},
   "source": [
    "<img src = \"MSIS Profile.png\">"
   ]
  },
  {
   "cell_type": "markdown",
   "metadata": {},
   "source": [
    "Data: http://higheredublog.com/top-universities-for-ms-in-mis-in-usa/\n",
    "\n",
    "Desription: The MSIS profile gives us the overall ranking of SCU MSIS program in US and also shows the demographics of the university. In the data, we can see the average work experience of a person pursuing the master's degree and their GPA. \n",
    "\n",
    "Warrant: Equal propotion of men and women in the class and mix of culture within the university can give more exposure to students, better global engagement and wider networks. \n",
    "\n",
    "Backing: http://www.independent.co.uk/student/career-planning/getting-job/its-good-to-talk-how-being-multi-lingual-can-boost-your-career-969235.html\n",
    "\n",
    "Reservation: I am not able to find any reservation as this is just a profile. \n",
    "\n",
    "Advantage: Gives a clear idea on the ranking and the culture of the university in a go\n",
    "Disadvantage: Want to compare how it is better option when compared to other universities\n",
    "\n"
   ]
  },
  {
   "cell_type": "markdown",
   "metadata": {},
   "source": [
    "We will now extract the MSIS payscale for SCU graduates"
   ]
  },
  {
   "cell_type": "code",
   "execution_count": 11,
   "metadata": {},
   "outputs": [
    {
     "name": "stdout",
     "output_type": "stream",
     "text": [
      "JobAverageMinMaxSoftware Engineer111 profiles$86,916$65K$122KData Analyst83 profiles$63,839$46K$82KBusiness Analyst, IT69 profiles$67,970$51K$86KGet a personalized salary report!Location:Years in Field/Career:Years in Field/Career:United States (change)Information Technology (IT) Manager67 profiles$100,541$65K$131KProject Manager, Information Technology (IT)54 profiles$90,546$64K$119KSoftware Developer47 profiles$72,474$58K$104KInformation Technology (IT) Director46 profiles$118,960$73K$171KSee all employers for Master of Information Science (MIS) »See all employers for Master of Information Science (MIS) »Currency: USDUpdated: 11 Oct 2017Individuals Reporting: 2,485View Table\n"
     ]
    }
   ],
   "source": [
    "response3 = requests.get(\"https://www.payscale.com/research/US/Degree=Master_of_Information_Science_(MIS)/Salary\")\n",
    "html3 = response3.content\n",
    "soup = BeautifulSoup(html3, 'html.parser')\n",
    "soup.prettify(formatter=lambda s: s.replace(u'\\xa0', ' '))\n",
    "#print (soup.prettify())\n",
    "pay = soup.find_all(\"div\", {\"class\":\"bar-chart-bootstrap\"})\n",
    "for i in pay:\n",
    "   print(i.text)\n",
    "pay1=[]\n",
    "for item in pay:\n",
    "   pay1.append(item.text)"
   ]
  },
  {
   "cell_type": "markdown",
   "metadata": {},
   "source": [
    "<img src = \"Average Salary.png\">"
   ]
  },
  {
   "cell_type": "markdown",
   "metadata": {},
   "source": [
    "Data: https://www.payscale.com/research/US/Degree=Master_of_Information_Science_(MIS)/Salary\n",
    "\n",
    "Description of the graph: The graph shows that Software Developers are one the highest paid jobs for MSIS students. \n",
    "I wanted to show the average salary in silicon valley and compare it with the salary earned by MSIS graduates. This will be the road map. However, I have collected the data and it shows that SCU gradutes in these role earn more than average pay scale. I will be including the graph in the next iteration. \n",
    "\n",
    "Warrant: Higher job prospects are more desirable and hence it strongly supports the claim. \n",
    "\n",
    "Backing: https://www.scu.edu/news-and-events/press-releases/2016/april-2016/santa-clara-university-ranks-high-on-payscale-college-roi-report.html\n",
    "\n",
    "Reservation: The average salary is being compared with just silicon valley universities, but when taken at a higher scope and including the graduates from ivey league colleges, the average salary for scu graduates may become lower. \n",
    "\n",
    "Future scope: As explained in the description, I would like to add average payscale in Silicon valley which can provide a better picture. \n",
    "\n"
   ]
  },
  {
   "cell_type": "markdown",
   "metadata": {},
   "source": [
    "The payscale can be again extracted for different universities by modifying the URL"
   ]
  },
  {
   "cell_type": "markdown",
   "metadata": {},
   "source": [
    "# Acceptance RATE at different california Universities "
   ]
  },
  {
   "cell_type": "code",
   "execution_count": 37,
   "metadata": {},
   "outputs": [],
   "source": [
    "response3 = requests.get(\"http://www.acceptancerate.com/california\")\n",
    "html3 = response3.content\n",
    "soup = BeautifulSoup(html3, 'html.parser')\n",
    "#soup.prettify(formatter=lambda s: s.replace(u'\\xa0', ' '))\n",
    "\n",
    "acc_rate= soup.find_all(\"table\", \"table table-hover table-condensed listing_table\")\n",
    "#for i in acc_rate:\n",
    " #   print(i.text)\n",
    "acc=[]\n",
    "for mytable in acc_rate:\n",
    "    acc_body = mytable.find('tbody')\n",
    "   "
   ]
  },
  {
   "cell_type": "markdown",
   "metadata": {},
   "source": [
    "Comparison between 3 Universities"
   ]
  },
  {
   "cell_type": "code",
   "execution_count": 16,
   "metadata": {
    "collapsed": true
   },
   "outputs": [],
   "source": [
    "req = requests.get('http://study.com/articles/Top_Ranked_School_for_Information_Technology_-_San_Jose_CA.html')"
   ]
  },
  {
   "cell_type": "code",
   "execution_count": 17,
   "metadata": {
    "collapsed": true
   },
   "outputs": [],
   "source": [
    "soup = BeautifulSoup(req.content, 'html.parser')"
   ]
  },
  {
   "cell_type": "code",
   "execution_count": 20,
   "metadata": {
    "collapsed": true
   },
   "outputs": [],
   "source": [
    "table = soup.find_all('table')[0]"
   ]
  },
  {
   "cell_type": "code",
   "execution_count": 21,
   "metadata": {
    "collapsed": true
   },
   "outputs": [],
   "source": [
    "rows = table.find_all('tr')[2:]"
   ]
  },
  {
   "cell_type": "code",
   "execution_count": 22,
   "metadata": {
    "collapsed": true
   },
   "outputs": [],
   "source": [
    "for row in rows:\n",
    "    cols = row.find_all('td')"
   ]
  },
  {
   "cell_type": "code",
   "execution_count": 23,
   "metadata": {
    "collapsed": true
   },
   "outputs": [],
   "source": [
    "data = {\n",
    "    'Category' : [],\n",
    "    'Santa Clara University' : [],\n",
    "    'San Jose State University' : [],\n",
    "    'University of San Francisco' : []\n",
    "}"
   ]
  },
  {
   "cell_type": "code",
   "execution_count": 24,
   "metadata": {
    "collapsed": true
   },
   "outputs": [],
   "source": [
    "for row in rows:\n",
    "    cols = row.find_all('td')    \n",
    "    data['Category'].append( cols[0].get_text() )\n",
    "    data['Santa Clara University'].append( cols[1].get_text() )\n",
    "    data['San Jose State University'].append( cols[2].get_text() )\n",
    "    data['University of San Francisco'].append( cols[3].get_text() )"
   ]
  },
  {
   "cell_type": "code",
   "execution_count": 25,
   "metadata": {
    "collapsed": true
   },
   "outputs": [],
   "source": [
    "import pandas as pd;\n",
    "compareData = pd.DataFrame( data )"
   ]
  },
  {
   "cell_type": "code",
   "execution_count": 26,
   "metadata": {
    "collapsed": true
   },
   "outputs": [],
   "source": [
    "compareData.to_csv(\"Compare.csv\")"
   ]
  },
  {
   "cell_type": "code",
   "execution_count": null,
   "metadata": {
    "collapsed": true
   },
   "outputs": [],
   "source": []
  }
 ],
 "metadata": {
  "kernelspec": {
   "display_name": "Python 3",
   "language": "python",
   "name": "python3"
  },
  "language_info": {
   "codemirror_mode": {
    "name": "ipython",
    "version": 3
   },
   "file_extension": ".py",
   "mimetype": "text/x-python",
   "name": "python",
   "nbconvert_exporter": "python",
   "pygments_lexer": "ipython3",
   "version": "3.6.2"
  }
 },
 "nbformat": 4,
 "nbformat_minor": 2
}
